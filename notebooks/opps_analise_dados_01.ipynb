{
  "nbformat": 4,
  "nbformat_minor": 0,
  "metadata": {
    "colab": {
      "provenance": [],
      "toc_visible": true,
      "authorship_tag": "ABX9TyNX6Fs4a3MIvdhP/cqp5m+6",
      "include_colab_link": true
    },
    "kernelspec": {
      "name": "python3",
      "display_name": "Python 3"
    },
    "language_info": {
      "name": "python"
    }
  },
  "cells": [
    {
      "cell_type": "markdown",
      "metadata": {
        "id": "view-in-github",
        "colab_type": "text"
      },
      "source": [
        "<a href=\"https://colab.research.google.com/github/lmcsantos12/coleta_analise_dados/blob/main/notebooks/opps_analise_dados_01.ipynb\" target=\"_parent\"><img src=\"https://colab.research.google.com/assets/colab-badge.svg\" alt=\"Open In Colab\"/></a>"
      ]
    },
    {
      "cell_type": "markdown",
      "source": [
        "# Análise e visualização de dados"
      ],
      "metadata": {
        "id": "4DIdc_PmqMA_"
      }
    },
    {
      "cell_type": "markdown",
      "source": [
        "## Importação de programas\n",
        "- O código abaixo indica os programas e bibliotecas que serão utilizados nesse arquivo"
      ],
      "metadata": {
        "id": "B_7JYJSdv3dR"
      }
    },
    {
      "cell_type": "code",
      "source": [
        "import json\n",
        "import os\n",
        "import numpy as np\n",
        "import pandas as pd\n",
        "\n",
        "from google.colab import drive\n",
        "drive.mount('/content/gdrive', force_remount=True)"
      ],
      "metadata": {
        "colab": {
          "base_uri": "https://localhost:8080/"
        },
        "id": "dyuG7XtzwKOH",
        "outputId": "790ea842-8aab-4571-9658-be4f93ad11e6"
      },
      "execution_count": 8,
      "outputs": [
        {
          "output_type": "stream",
          "name": "stdout",
          "text": [
            "Mounted at /content/gdrive\n"
          ]
        }
      ]
    },
    {
      "cell_type": "markdown",
      "source": [
        "## Localização dos arquivos"
      ],
      "metadata": {
        "id": "mrZZ2kOs1ml_"
      }
    },
    {
      "cell_type": "code",
      "source": [
        "caminho_padrao = \"/content/gdrive/MyDrive\" # comum a todos os usuários\n",
        "caminho_especifico_dados = \"/Colab/nepps/dom_batatais-2024-05.json\" # caminho especifico de cada usuário\n",
        "caminho_full = caminho_padrao + caminho_especifico_dados"
      ],
      "metadata": {
        "id": "WNWJsC1exCFU"
      },
      "execution_count": 11,
      "outputs": []
    },
    {
      "cell_type": "markdown",
      "source": [
        "## Acessando as informações dos arquivos"
      ],
      "metadata": {
        "id": "X2KiQU5Q1yJt"
      }
    },
    {
      "cell_type": "code",
      "source": [
        "dataset = pd.read_json(caminho_full, orient=\"columns\")\n",
        "df_diarios = pd.json_normalize(dataset[\"_default\"])\n",
        "df_diarios\n"
      ],
      "metadata": {
        "id": "9jimJO4pxp-r"
      },
      "execution_count": null,
      "outputs": []
    },
    {
      "cell_type": "code",
      "source": [
        "df_diarios.shape"
      ],
      "metadata": {
        "colab": {
          "base_uri": "https://localhost:8080/"
        },
        "id": "6CKIr95p1Aow",
        "outputId": "5e1f37a1-d106-40c6-8dab-15146262f443"
      },
      "execution_count": 15,
      "outputs": [
        {
          "output_type": "execute_result",
          "data": {
            "text/plain": [
              "(23, 18)"
            ]
          },
          "metadata": {},
          "execution_count": 15
        }
      ]
    }
  ]
}